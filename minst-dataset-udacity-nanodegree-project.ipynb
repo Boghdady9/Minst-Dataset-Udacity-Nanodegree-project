{
 "cells": [
  {
   "cell_type": "code",
   "execution_count": 1,
   "id": "a01aa515",
   "metadata": {
    "_cell_guid": "b1076dfc-b9ad-4769-8c92-a6c4dae69d19",
    "_uuid": "8f2839f25d086af736a60e9eeb907d3b93b6e0e5",
    "execution": {
     "iopub.execute_input": "2023-06-28T10:40:44.593420Z",
     "iopub.status.busy": "2023-06-28T10:40:44.592775Z",
     "iopub.status.idle": "2023-06-28T10:40:44.606286Z",
     "shell.execute_reply": "2023-06-28T10:40:44.605514Z"
    },
    "papermill": {
     "duration": 0.024146,
     "end_time": "2023-06-28T10:40:44.608274",
     "exception": false,
     "start_time": "2023-06-28T10:40:44.584128",
     "status": "completed"
    },
    "tags": []
   },
   "outputs": [],
   "source": [
    "# This Python 3 environment comes with many helpful analytics libraries installed\n",
    "# It is defined by the kaggle/python Docker image: https://github.com/kaggle/docker-python\n",
    "# For example, here's several helpful packages to load\n",
    "\n",
    "import numpy as np # linear algebra\n",
    "import pandas as pd # data processing, CSV file I/O (e.g. pd.read_csv)\n",
    "\n",
    "# Input data files are available in the read-only \"../input/\" directory\n",
    "# For example, running this (by clicking run or pressing Shift+Enter) will list all files under the input directory\n",
    "\n",
    "import os\n",
    "for dirname, _, filenames in os.walk('/kaggle/input'):\n",
    "    for filename in filenames:\n",
    "        print(os.path.join(dirname, filename))\n",
    "\n",
    "# You can write up to 20GB to the current directory (/kaggle/working/) that gets preserved as output when you create a version using \"Save & Run All\" \n",
    "# You can also write temporary files to /kaggle/temp/, but they won't be saved outside of the current session"
   ]
  },
  {
   "cell_type": "markdown",
   "id": "cef886aa",
   "metadata": {
    "papermill": {
     "duration": 0.006306,
     "end_time": "2023-06-28T10:40:44.621361",
     "exception": false,
     "start_time": "2023-06-28T10:40:44.615055",
     "status": "completed"
    },
    "tags": []
   },
   "source": [
    "## Introduction\n",
    "This notebook is a project of Nanodegree at Udacity \"Machine Learning Fundamentals\" Sponsored by AWS and Intel"
   ]
  },
  {
   "cell_type": "markdown",
   "id": "8534a29b",
   "metadata": {
    "papermill": {
     "duration": 0.006509,
     "end_time": "2023-06-28T10:40:44.634395",
     "exception": false,
     "start_time": "2023-06-28T10:40:44.627886",
     "status": "completed"
    },
    "tags": []
   },
   "source": [
    "## Loading needed Libraries"
   ]
  },
  {
   "cell_type": "code",
   "execution_count": 2,
   "id": "b257f720",
   "metadata": {
    "execution": {
     "iopub.execute_input": "2023-06-28T10:40:44.649049Z",
     "iopub.status.busy": "2023-06-28T10:40:44.648321Z",
     "iopub.status.idle": "2023-06-28T10:40:51.221763Z",
     "shell.execute_reply": "2023-06-28T10:40:51.220781Z"
    },
    "papermill": {
     "duration": 6.583308,
     "end_time": "2023-06-28T10:40:51.224259",
     "exception": false,
     "start_time": "2023-06-28T10:40:44.640951",
     "status": "completed"
    },
    "tags": []
   },
   "outputs": [],
   "source": [
    "import torch\n",
    "import torch.nn.functional as F\n",
    "from torch import nn\n",
    "from torch import optim\n",
    "from torch.utils.data import DataLoader\n",
    "from torchvision import datasets\n",
    "from torchvision import transforms\n",
    "from torchvision.transforms import ToTensor\n",
    "import matplotlib.pyplot as plt"
   ]
  },
  {
   "cell_type": "code",
   "execution_count": 3,
   "id": "bd69e29d",
   "metadata": {
    "execution": {
     "iopub.execute_input": "2023-06-28T10:40:51.240669Z",
     "iopub.status.busy": "2023-06-28T10:40:51.240167Z",
     "iopub.status.idle": "2023-06-28T10:40:51.248196Z",
     "shell.execute_reply": "2023-06-28T10:40:51.247306Z"
    },
    "papermill": {
     "duration": 0.018371,
     "end_time": "2023-06-28T10:40:51.250557",
     "exception": false,
     "start_time": "2023-06-28T10:40:51.232186",
     "status": "completed"
    },
    "tags": []
   },
   "outputs": [
    {
     "data": {
      "text/plain": [
       "device(type='cuda')"
      ]
     },
     "execution_count": 3,
     "metadata": {},
     "output_type": "execute_result"
    }
   ],
   "source": [
    "device=torch.device('cuda')\n",
    "device "
   ]
  },
  {
   "cell_type": "markdown",
   "id": "e054671c",
   "metadata": {
    "papermill": {
     "duration": 0.006811,
     "end_time": "2023-06-28T10:40:51.264260",
     "exception": false,
     "start_time": "2023-06-28T10:40:51.257449",
     "status": "completed"
    },
    "tags": []
   },
   "source": [
    "## Loading the data\n",
    "\n",
    "\n",
    " # Description\n",
    "The MNIST database (Modified National Institute of Standards and Technology database) is a large collection of handwritten digits. It has a training set of 60,000 examples, and a test set of 10,000 examples. It is a subset of a larger NIST Special Database 3 (digits written by employees of the United States Census Bureau) and Special Database 1 (digits written by high school students) which contain monochrome images of handwritten digits. The digits have been size-normalized and centered in a fixed-size image. The original black and white (bilevel) images from NIST were size normalized to fit in a 20x20 pixel box while preserving their aspect ratio. The resulting images contain grey levels as a result of the anti-aliasing technique used by the normalization algorithm. the images were centered in a 28x28 image by computing the center of mass of the pixels, and translating the image so as to position this point at the center of the 28x28 field.\n"
   ]
  },
  {
   "cell_type": "code",
   "execution_count": 4,
   "id": "235d85b2",
   "metadata": {
    "execution": {
     "iopub.execute_input": "2023-06-28T10:40:51.279266Z",
     "iopub.status.busy": "2023-06-28T10:40:51.278695Z",
     "iopub.status.idle": "2023-06-28T10:40:52.485901Z",
     "shell.execute_reply": "2023-06-28T10:40:52.484959Z"
    },
    "papermill": {
     "duration": 1.217022,
     "end_time": "2023-06-28T10:40:52.488121",
     "exception": false,
     "start_time": "2023-06-28T10:40:51.271099",
     "status": "completed"
    },
    "tags": []
   },
   "outputs": [
    {
     "name": "stdout",
     "output_type": "stream",
     "text": [
      "Downloading http://yann.lecun.com/exdb/mnist/train-images-idx3-ubyte.gz\n",
      "Downloading http://yann.lecun.com/exdb/mnist/train-images-idx3-ubyte.gz to data/MNIST/raw/train-images-idx3-ubyte.gz\n"
     ]
    },
    {
     "name": "stderr",
     "output_type": "stream",
     "text": [
      "100%|██████████| 9912422/9912422 [00:00<00:00, 97217422.48it/s]\n"
     ]
    },
    {
     "name": "stdout",
     "output_type": "stream",
     "text": [
      "Extracting data/MNIST/raw/train-images-idx3-ubyte.gz to data/MNIST/raw\n",
      "\n",
      "Downloading http://yann.lecun.com/exdb/mnist/train-labels-idx1-ubyte.gz\n",
      "Downloading http://yann.lecun.com/exdb/mnist/train-labels-idx1-ubyte.gz to data/MNIST/raw/train-labels-idx1-ubyte.gz\n"
     ]
    },
    {
     "name": "stderr",
     "output_type": "stream",
     "text": [
      "100%|██████████| 28881/28881 [00:00<00:00, 45780685.50it/s]"
     ]
    },
    {
     "name": "stdout",
     "output_type": "stream",
     "text": [
      "Extracting data/MNIST/raw/train-labels-idx1-ubyte.gz to data/MNIST/raw\n",
      "\n",
      "Downloading http://yann.lecun.com/exdb/mnist/t10k-images-idx3-ubyte.gz\n"
     ]
    },
    {
     "name": "stderr",
     "output_type": "stream",
     "text": [
      "\n"
     ]
    },
    {
     "name": "stdout",
     "output_type": "stream",
     "text": [
      "Downloading http://yann.lecun.com/exdb/mnist/t10k-images-idx3-ubyte.gz to data/MNIST/raw/t10k-images-idx3-ubyte.gz\n"
     ]
    },
    {
     "name": "stderr",
     "output_type": "stream",
     "text": [
      "100%|██████████| 1648877/1648877 [00:00<00:00, 24811529.85it/s]\n"
     ]
    },
    {
     "name": "stdout",
     "output_type": "stream",
     "text": [
      "Extracting data/MNIST/raw/t10k-images-idx3-ubyte.gz to data/MNIST/raw\n",
      "\n",
      "Downloading http://yann.lecun.com/exdb/mnist/t10k-labels-idx1-ubyte.gz\n",
      "Downloading http://yann.lecun.com/exdb/mnist/t10k-labels-idx1-ubyte.gz to data/MNIST/raw/t10k-labels-idx1-ubyte.gz\n"
     ]
    },
    {
     "name": "stderr",
     "output_type": "stream",
     "text": [
      "100%|██████████| 4542/4542 [00:00<00:00, 6310211.58it/s]\n"
     ]
    },
    {
     "name": "stdout",
     "output_type": "stream",
     "text": [
      "Extracting data/MNIST/raw/t10k-labels-idx1-ubyte.gz to data/MNIST/raw\n",
      "\n"
     ]
    }
   ],
   "source": [
    "transform=transforms.Compose([transforms.ToTensor(),transforms.Normalize((0.5,),(0.5,))])\n",
    "train=datasets.MNIST(root=\"data\",train=True,download=True,transform=transform)\n",
    "test=datasets.MNIST(root=\"data\",train=False,download=True,transform=transform)\n",
    "train_loader = DataLoader(train, batch_size=64, shuffle=True)\n",
    "test_loader = DataLoader(test, batch_size=200)"
   ]
  },
  {
   "cell_type": "markdown",
   "id": "b0d3bf51",
   "metadata": {
    "papermill": {
     "duration": 0.008169,
     "end_time": "2023-06-28T10:40:52.504872",
     "exception": false,
     "start_time": "2023-06-28T10:40:52.496703",
     "status": "completed"
    },
    "tags": []
   },
   "source": [
    "# Visualization of the data"
   ]
  },
  {
   "cell_type": "code",
   "execution_count": 5,
   "id": "09a4e947",
   "metadata": {
    "execution": {
     "iopub.execute_input": "2023-06-28T10:40:52.524623Z",
     "iopub.status.busy": "2023-06-28T10:40:52.522978Z",
     "iopub.status.idle": "2023-06-28T10:40:54.002331Z",
     "shell.execute_reply": "2023-06-28T10:40:54.001325Z"
    },
    "papermill": {
     "duration": 1.491511,
     "end_time": "2023-06-28T10:40:54.004796",
     "exception": false,
     "start_time": "2023-06-28T10:40:52.513285",
     "status": "completed"
    },
    "tags": []
   },
   "outputs": [
    {
     "data": {
      "image/png": "[encoded data removed]",
      "text/plain": [
       "<Figure size 1000x1000 with 16 Axes>"
      ]
     },
     "metadata": {},
     "output_type": "display_data"
    }
   ],
   "source": [
    "# Get a batch of data from the train_loader\n",
    "dataiter = next(iter(train_loader))\n",
    "images, labels = dataiter\n",
    "\n",
    "# Plot multiple images from the batch\n",
    "fig, axes = plt.subplots(nrows=4, ncols=4, figsize=(10, 10))\n",
    "for i, ax in enumerate(axes.flat):\n",
    "    # Select a single image from the batch\n",
    "    image = images[i]\n",
    "\n",
    "    # Reshape the image to (height, width, num_channels)\n",
    "    image = np.transpose(image, (1, 2, 0))\n",
    "\n",
    "    # Display the image and label\n",
    "    ax.imshow(image)\n",
    "    ax.set_title(f\"Label: {labels[i]}\")\n",
    "    ax.axis(\"off\")\n",
    "\n",
    "plt.show()"
   ]
  },
  {
   "cell_type": "code",
   "execution_count": 6,
   "id": "b0eafd08",
   "metadata": {
    "execution": {
     "iopub.execute_input": "2023-06-28T10:40:54.026225Z",
     "iopub.status.busy": "2023-06-28T10:40:54.025360Z",
     "iopub.status.idle": "2023-06-28T10:40:54.051485Z",
     "shell.execute_reply": "2023-06-28T10:40:54.050395Z"
    },
    "papermill": {
     "duration": 0.03941,
     "end_time": "2023-06-28T10:40:54.053959",
     "exception": false,
     "start_time": "2023-06-28T10:40:54.014549",
     "status": "completed"
    },
    "tags": []
   },
   "outputs": [
    {
     "name": "stdout",
     "output_type": "stream",
     "text": [
      "Shape of X [N, C, H, W]: torch.Size([64, 1, 28, 28])\n",
      "Shape of y: torch.Size([64]) torch.int64\n"
     ]
    }
   ],
   "source": [
    "for X, y in train_loader:\n",
    "    print(f\"Shape of X [N, C, H, W]: {X.shape}\")\n",
    "    print(f\"Shape of y: {y.shape} {y.dtype}\")\n",
    "    break"
   ]
  },
  {
   "cell_type": "markdown",
   "id": "d699f3af",
   "metadata": {
    "papermill": {
     "duration": 0.008947,
     "end_time": "2023-06-28T10:40:54.072154",
     "exception": false,
     "start_time": "2023-06-28T10:40:54.063207",
     "status": "completed"
    },
    "tags": []
   },
   "source": [
    "## Building the architecture of the model"
   ]
  },
  {
   "cell_type": "code",
   "execution_count": 7,
   "id": "cc540830",
   "metadata": {
    "execution": {
     "iopub.execute_input": "2023-06-28T10:40:54.092106Z",
     "iopub.status.busy": "2023-06-28T10:40:54.091793Z",
     "iopub.status.idle": "2023-06-28T10:40:58.588521Z",
     "shell.execute_reply": "2023-06-28T10:40:58.587592Z"
    },
    "papermill": {
     "duration": 4.509399,
     "end_time": "2023-06-28T10:40:58.590713",
     "exception": false,
     "start_time": "2023-06-28T10:40:54.081314",
     "status": "completed"
    },
    "tags": []
   },
   "outputs": [
    {
     "data": {
      "text/plain": [
       "Net(\n",
       "  (fc1): Linear(in_features=784, out_features=512, bias=True)\n",
       "  (dropout1): Dropout(p=0.5, inplace=False)\n",
       "  (fc2): Linear(in_features=512, out_features=128, bias=True)\n",
       "  (dropout2): Dropout(p=0.5, inplace=False)\n",
       "  (fc3): Linear(in_features=128, out_features=10, bias=True)\n",
       ")"
      ]
     },
     "execution_count": 7,
     "metadata": {},
     "output_type": "execute_result"
    }
   ],
   "source": [
    "class Net(nn.Module):\n",
    "    def __init__(self, dropout_prob=0.5):\n",
    "        super().__init__()\n",
    "        self.activation = F.relu\n",
    "        self.dropout_prob = dropout_prob\n",
    "\n",
    "        self.fc1 = nn.Linear(28*28, 512)\n",
    "        self.dropout1 = nn.Dropout(p=dropout_prob)\n",
    "\n",
    "        self.fc2 = nn.Linear(512, 128)\n",
    "        self.dropout2 = nn.Dropout(p=dropout_prob)\n",
    "\n",
    "        self.fc3 = nn.Linear(128, 10)\n",
    "\n",
    "    def forward(self, x):\n",
    "        x = torch.flatten(x, 1)\n",
    "        x = self.activation(self.fc1(x))\n",
    "        x = self.dropout1(x)\n",
    "\n",
    "        x = self.activation(self.fc2(x))\n",
    "        x = self.dropout2(x)\n",
    "\n",
    "        x = F.softmax(self.fc3(x))\n",
    "        return x\n",
    "net=Net()    \n",
    "net.to(device)"
   ]
  },
  {
   "cell_type": "markdown",
   "id": "38765965",
   "metadata": {
    "papermill": {
     "duration": 0.008972,
     "end_time": "2023-06-28T10:40:58.608994",
     "exception": false,
     "start_time": "2023-06-28T10:40:58.600022",
     "status": "completed"
    },
    "tags": []
   },
   "source": [
    "## Training phase"
   ]
  },
  {
   "cell_type": "code",
   "execution_count": 8,
   "id": "da6cddaf",
   "metadata": {
    "execution": {
     "iopub.execute_input": "2023-06-28T10:40:58.629118Z",
     "iopub.status.busy": "2023-06-28T10:40:58.628786Z",
     "iopub.status.idle": "2023-06-28T10:40:58.640836Z",
     "shell.execute_reply": "2023-06-28T10:40:58.639857Z"
    },
    "papermill": {
     "duration": 0.024576,
     "end_time": "2023-06-28T10:40:58.642773",
     "exception": false,
     "start_time": "2023-06-28T10:40:58.618197",
     "status": "completed"
    },
    "tags": []
   },
   "outputs": [],
   "source": [
    "def train_model(net, train_loader, test_loader, num_epoch=50, lr=0.001, momentum=0.5):\n",
    "    optimizer = optim.SGD(net.parameters(), lr=lr,momentum=momentum)\n",
    "    criterion = nn.CrossEntropyLoss()\n",
    "\n",
    "    train_loss_history = []\n",
    "    test_loss_history = []\n",
    "\n",
    "    for epoch in range(num_epoch):\n",
    "        net.train()\n",
    "        train_loss = 0\n",
    "        train_correct = 0\n",
    "        for i, data in enumerate(train_loader):\n",
    "            inputs, labels = data\n",
    "            inputs, labels = inputs.to(device), labels.to(device)\n",
    "\n",
    "            optimizer.zero_grad()\n",
    "            output = net(inputs)\n",
    "            loss = criterion(output, labels)\n",
    "            loss.backward()\n",
    "            optimizer.step()\n",
    "\n",
    "            _, preds = torch.max(output.data, 1)\n",
    "            train_correct += (preds == labels).sum().item()\n",
    "            train_loss += loss.item()\n",
    "\n",
    "        train_loss_history.append(train_loss / len(train_loader))\n",
    "        train_acc = train_correct / len(train_loader.dataset)\n",
    "\n",
    "        net.eval()\n",
    "        test_loss = 0.0\n",
    "        test_correct = 0\n",
    "        with torch.no_grad():\n",
    "            for inputs, labels in test_loader:\n",
    "                inputs, labels = inputs.to(device), labels.to(device)\n",
    "\n",
    "                outputs = net(inputs)\n",
    "                loss = criterion(outputs, labels)\n",
    "\n",
    "                _, preds = torch.max(outputs.data, 1)\n",
    "                test_correct += (preds == labels).sum().item()\n",
    "                test_loss += loss.item()\n",
    "\n",
    "        test_loss_history.append(test_loss / len(test_loader))\n",
    "        test_acc = test_correct / len(test_loader.dataset)\n",
    "\n",
    "        print(f'Epoch {epoch + 1} training accuracy: {train_acc:.2f}% training loss: {train_loss / len(train_loader):.5f}')\n",
    "        print(f'Epoch {epoch + 1} test accuracy: {test_acc:.2f}% test loss: {test_loss / len(test_loader):.5f}')\n",
    "\n",
    "    plt.plot(train_loss_history, label=\"Training Loss\")\n",
    "    plt.plot(test_loss_history, label=\"test Loss\")\n",
    "    plt.legend()\n",
    "    plt.show()"
   ]
  },
  {
   "cell_type": "code",
   "execution_count": 9,
   "id": "487451cf",
   "metadata": {
    "execution": {
     "iopub.execute_input": "2023-06-28T10:40:58.663719Z",
     "iopub.status.busy": "2023-06-28T10:40:58.662945Z",
     "iopub.status.idle": "2023-06-28T10:54:04.561854Z",
     "shell.execute_reply": "2023-06-28T10:54:04.560874Z"
    },
    "papermill": {
     "duration": 785.91204,
     "end_time": "2023-06-28T10:54:04.564120",
     "exception": false,
     "start_time": "2023-06-28T10:40:58.652080",
     "status": "completed"
    },
    "tags": []
   },
   "outputs": [
    {
     "name": "stderr",
     "output_type": "stream",
     "text": [
      "/tmp/ipykernel_24/2322356002.py:23: UserWarning: Implicit dimension choice for softmax has been deprecated. Change the call to include dim=X as an argument.\n",
      "  x = F.softmax(self.fc3(x))\n"
     ]
    },
    {
     "name": "stdout",
     "output_type": "stream",
     "text": [
      "Epoch 1 training accuracy: 0.10% training loss: 2.30229\n",
      "Epoch 1 test accuracy: 0.10% test loss: 2.30014\n",
      "Epoch 2 training accuracy: 0.12% training loss: 2.29841\n",
      "Epoch 2 test accuracy: 0.20% test loss: 2.29495\n",
      "Epoch 3 training accuracy: 0.16% training loss: 2.29280\n",
      "Epoch 3 test accuracy: 0.20% test loss: 2.28635\n",
      "Epoch 4 training accuracy: 0.18% training loss: 2.28230\n",
      "Epoch 4 test accuracy: 0.16% test loss: 2.26889\n",
      "Epoch 5 training accuracy: 0.18% training loss: 2.26221\n",
      "Epoch 5 test accuracy: 0.19% test loss: 2.23917\n",
      "Epoch 6 training accuracy: 0.22% training loss: 2.23366\n",
      "Epoch 6 test accuracy: 0.27% test loss: 2.20179\n",
      "Epoch 7 training accuracy: 0.28% training loss: 2.19858\n",
      "Epoch 7 test accuracy: 0.34% test loss: 2.15815\n",
      "Epoch 8 training accuracy: 0.33% training loss: 2.15723\n",
      "Epoch 8 test accuracy: 0.38% test loss: 2.10836\n",
      "Epoch 9 training accuracy: 0.37% training loss: 2.11304\n",
      "Epoch 9 test accuracy: 0.40% test loss: 2.06210\n",
      "Epoch 10 training accuracy: 0.41% training loss: 2.07481\n",
      "Epoch 10 test accuracy: 0.46% test loss: 2.02350\n",
      "Epoch 11 training accuracy: 0.45% training loss: 2.04060\n",
      "Epoch 11 test accuracy: 0.51% test loss: 1.98585\n",
      "Epoch 12 training accuracy: 0.50% training loss: 2.00652\n",
      "Epoch 12 test accuracy: 0.56% test loss: 1.94533\n",
      "Epoch 13 training accuracy: 0.53% training loss: 1.97284\n",
      "Epoch 13 test accuracy: 0.57% test loss: 1.91565\n",
      "Epoch 14 training accuracy: 0.55% training loss: 1.94646\n",
      "Epoch 14 test accuracy: 0.58% test loss: 1.89423\n",
      "Epoch 15 training accuracy: 0.57% training loss: 1.92755\n",
      "Epoch 15 test accuracy: 0.61% test loss: 1.87439\n",
      "Epoch 16 training accuracy: 0.59% training loss: 1.90746\n",
      "Epoch 16 test accuracy: 0.63% test loss: 1.85505\n",
      "Epoch 17 training accuracy: 0.60% training loss: 1.88993\n",
      "Epoch 17 test accuracy: 0.64% test loss: 1.83709\n",
      "Epoch 18 training accuracy: 0.62% training loss: 1.87336\n",
      "Epoch 18 test accuracy: 0.66% test loss: 1.81607\n",
      "Epoch 19 training accuracy: 0.65% training loss: 1.85281\n",
      "Epoch 19 test accuracy: 0.73% test loss: 1.78666\n",
      "Epoch 20 training accuracy: 0.68% training loss: 1.83173\n",
      "Epoch 20 test accuracy: 0.76% test loss: 1.76220\n",
      "Epoch 21 training accuracy: 0.70% training loss: 1.81229\n",
      "Epoch 21 test accuracy: 0.78% test loss: 1.74220\n",
      "Epoch 22 training accuracy: 0.71% training loss: 1.79695\n",
      "Epoch 22 test accuracy: 0.79% test loss: 1.72614\n",
      "Epoch 23 training accuracy: 0.73% training loss: 1.78099\n",
      "Epoch 23 test accuracy: 0.80% test loss: 1.71250\n",
      "Epoch 24 training accuracy: 0.73% training loss: 1.76881\n",
      "Epoch 24 test accuracy: 0.80% test loss: 1.70062\n",
      "Epoch 25 training accuracy: 0.74% training loss: 1.75647\n",
      "Epoch 25 test accuracy: 0.81% test loss: 1.69162\n",
      "Epoch 26 training accuracy: 0.75% training loss: 1.74824\n",
      "Epoch 26 test accuracy: 0.81% test loss: 1.68340\n",
      "Epoch 27 training accuracy: 0.76% training loss: 1.73990\n",
      "Epoch 27 test accuracy: 0.81% test loss: 1.67687\n",
      "Epoch 28 training accuracy: 0.76% training loss: 1.73197\n",
      "Epoch 28 test accuracy: 0.82% test loss: 1.67199\n",
      "Epoch 29 training accuracy: 0.77% training loss: 1.72511\n",
      "Epoch 29 test accuracy: 0.82% test loss: 1.66676\n",
      "Epoch 30 training accuracy: 0.77% training loss: 1.71819\n",
      "Epoch 30 test accuracy: 0.82% test loss: 1.66267\n",
      "Epoch 31 training accuracy: 0.77% training loss: 1.71481\n",
      "Epoch 31 test accuracy: 0.82% test loss: 1.65974\n",
      "Epoch 32 training accuracy: 0.78% training loss: 1.70914\n",
      "Epoch 32 test accuracy: 0.82% test loss: 1.65647\n",
      "Epoch 33 training accuracy: 0.78% training loss: 1.70436\n",
      "Epoch 33 test accuracy: 0.83% test loss: 1.65341\n",
      "Epoch 34 training accuracy: 0.79% training loss: 1.70134\n",
      "Epoch 34 test accuracy: 0.83% test loss: 1.65100\n",
      "Epoch 35 training accuracy: 0.79% training loss: 1.69819\n",
      "Epoch 35 test accuracy: 0.83% test loss: 1.64856\n",
      "Epoch 36 training accuracy: 0.79% training loss: 1.69555\n",
      "Epoch 36 test accuracy: 0.83% test loss: 1.64647\n",
      "Epoch 37 training accuracy: 0.79% training loss: 1.69099\n",
      "Epoch 37 test accuracy: 0.83% test loss: 1.64498\n",
      "Epoch 38 training accuracy: 0.79% training loss: 1.68900\n",
      "Epoch 38 test accuracy: 0.83% test loss: 1.64290\n",
      "Epoch 39 training accuracy: 0.79% training loss: 1.68694\n",
      "Epoch 39 test accuracy: 0.83% test loss: 1.64162\n",
      "Epoch 40 training accuracy: 0.80% training loss: 1.68457\n",
      "Epoch 40 test accuracy: 0.83% test loss: 1.64016\n",
      "Epoch 41 training accuracy: 0.80% training loss: 1.68213\n",
      "Epoch 41 test accuracy: 0.83% test loss: 1.63870\n",
      "Epoch 42 training accuracy: 0.80% training loss: 1.67948\n",
      "Epoch 42 test accuracy: 0.83% test loss: 1.63754\n",
      "Epoch 43 training accuracy: 0.80% training loss: 1.67682\n",
      "Epoch 43 test accuracy: 0.84% test loss: 1.63616\n",
      "Epoch 44 training accuracy: 0.80% training loss: 1.67525\n",
      "Epoch 44 test accuracy: 0.84% test loss: 1.63517\n",
      "Epoch 45 training accuracy: 0.80% training loss: 1.67472\n",
      "Epoch 45 test accuracy: 0.84% test loss: 1.63405\n",
      "Epoch 46 training accuracy: 0.81% training loss: 1.67171\n",
      "Epoch 46 test accuracy: 0.84% test loss: 1.63298\n",
      "Epoch 47 training accuracy: 0.81% training loss: 1.67039\n",
      "Epoch 47 test accuracy: 0.84% test loss: 1.63191\n",
      "Epoch 48 training accuracy: 0.81% training loss: 1.66881\n",
      "Epoch 48 test accuracy: 0.84% test loss: 1.63149\n",
      "Epoch 49 training accuracy: 0.81% training loss: 1.66738\n",
      "Epoch 49 test accuracy: 0.84% test loss: 1.63061\n",
      "Epoch 50 training accuracy: 0.81% training loss: 1.66604\n",
      "Epoch 50 test accuracy: 0.84% test loss: 1.62990\n"
     ]
    },
    {
     "data": {
      "image/png": "[encoded data removed]",
      "text/plain": [
       "<Figure size 640x480 with 1 Axes>"
      ]
     },
     "metadata": {},
     "output_type": "display_data"
    }
   ],
   "source": [
    "train_model(net,train_loader,test_loader)"
   ]
  },
  {
   "cell_type": "markdown",
   "id": "523766a0",
   "metadata": {
    "papermill": {
     "duration": 0.013156,
     "end_time": "2023-06-28T10:54:04.590951",
     "exception": false,
     "start_time": "2023-06-28T10:54:04.577795",
     "status": "completed"
    },
    "tags": []
   },
   "source": [
    "## Modifing hyperparameter\n"
   ]
  },
  {
   "cell_type": "code",
   "execution_count": 10,
   "id": "f16cbcd1",
   "metadata": {
    "execution": {
     "iopub.execute_input": "2023-06-28T10:54:04.619377Z",
     "iopub.status.busy": "2023-06-28T10:54:04.619090Z",
     "iopub.status.idle": "2023-06-28T10:55:21.905748Z",
     "shell.execute_reply": "2023-06-28T10:55:21.904878Z"
    },
    "papermill": {
     "duration": 77.303988,
     "end_time": "2023-06-28T10:55:21.908387",
     "exception": false,
     "start_time": "2023-06-28T10:54:04.604399",
     "status": "completed"
    },
    "tags": []
   },
   "outputs": [
    {
     "name": "stderr",
     "output_type": "stream",
     "text": [
      "/tmp/ipykernel_24/2322356002.py:23: UserWarning: Implicit dimension choice for softmax has been deprecated. Change the call to include dim=X as an argument.\n",
      "  x = F.softmax(self.fc3(x))\n"
     ]
    },
    {
     "name": "stdout",
     "output_type": "stream",
     "text": [
      "Epoch 1 training accuracy: 0.81% training loss: 1.66532\n",
      "Epoch 1 test accuracy: 0.84% test loss: 1.62891\n",
      "Epoch 2 training accuracy: 0.81% training loss: 1.66449\n",
      "Epoch 2 test accuracy: 0.84% test loss: 1.62854\n",
      "Epoch 3 training accuracy: 0.81% training loss: 1.66315\n",
      "Epoch 3 test accuracy: 0.84% test loss: 1.62791\n",
      "Epoch 4 training accuracy: 0.81% training loss: 1.66325\n",
      "Epoch 4 test accuracy: 0.84% test loss: 1.62770\n",
      "Epoch 5 training accuracy: 0.81% training loss: 1.66117\n",
      "Epoch 5 test accuracy: 0.84% test loss: 1.62707\n"
     ]
    },
    {
     "data": {
      "image/png": "[encoded data removed]",
      "text/plain": [
       "<Figure size 640x480 with 1 Axes>"
      ]
     },
     "metadata": {},
     "output_type": "display_data"
    }
   ],
   "source": [
    "train_model(net, train_loader, test_loader, num_epoch=5, lr=0.001, momentum=0.3)"
   ]
  },
  {
   "cell_type": "markdown",
   "id": "861f482d",
   "metadata": {
    "papermill": {
     "duration": 0.01417,
     "end_time": "2023-06-28T10:55:21.937486",
     "exception": false,
     "start_time": "2023-06-28T10:55:21.923316",
     "status": "completed"
    },
    "tags": []
   },
   "source": [
    "## Testing & Evaluation"
   ]
  },
  {
   "cell_type": "code",
   "execution_count": 11,
   "id": "e76fcd22",
   "metadata": {
    "execution": {
     "iopub.execute_input": "2023-06-28T10:55:21.968202Z",
     "iopub.status.busy": "2023-06-28T10:55:21.967901Z",
     "iopub.status.idle": "2023-06-28T10:55:21.973958Z",
     "shell.execute_reply": "2023-06-28T10:55:21.972954Z"
    },
    "papermill": {
     "duration": 0.023439,
     "end_time": "2023-06-28T10:55:21.976020",
     "exception": false,
     "start_time": "2023-06-28T10:55:21.952581",
     "status": "completed"
    },
    "tags": []
   },
   "outputs": [],
   "source": [
    "\n",
    "\n",
    "def predict_and_display_image(model, device, image, true_label):\n",
    "    # Move the image to the device\n",
    "    image = image.to(device)\n",
    "\n",
    "    # Make a prediction using the model\n",
    "    with torch.no_grad():\n",
    "        output = model(image.unsqueeze(0))\n",
    "\n",
    "    # Move the output tensor to the CPU device and convert it to numpy\n",
    "    output = output.cpu().numpy()\n",
    "\n",
    "    # Get the predicted class for the image\n",
    "    predicted_class = np.argmax(output)\n",
    "\n",
    "    # Display the image using imshow\n",
    "    plt.imshow(image.cpu(), cmap='gray')\n",
    "\n",
    "    # Print the true label and predicted label for the image\n",
    "    print(\"True Label: \", true_label)\n",
    "    print(\"Predicted Label: \", predicted_class)\n"
   ]
  },
  {
   "cell_type": "code",
   "execution_count": 12,
   "id": "834c6152",
   "metadata": {
    "execution": {
     "iopub.execute_input": "2023-06-28T10:55:22.005180Z",
     "iopub.status.busy": "2023-06-28T10:55:22.004912Z",
     "iopub.status.idle": "2023-06-28T10:55:22.339367Z",
     "shell.execute_reply": "2023-06-28T10:55:22.338520Z"
    },
    "papermill": {
     "duration": 0.351152,
     "end_time": "2023-06-28T10:55:22.341344",
     "exception": false,
     "start_time": "2023-06-28T10:55:21.990192",
     "status": "completed"
    },
    "tags": []
   },
   "outputs": [
    {
     "name": "stderr",
     "output_type": "stream",
     "text": [
      "/tmp/ipykernel_24/2322356002.py:23: UserWarning: Implicit dimension choice for softmax has been deprecated. Change the call to include dim=X as an argument.\n",
      "  x = F.softmax(self.fc3(x))\n"
     ]
    },
    {
     "name": "stdout",
     "output_type": "stream",
     "text": [
      "True Label:  tensor(7)\n",
      "Predicted Label:  7\n"
     ]
    },
    {
     "data": {
      "image/png": "[encoded data removed]",
      "text/plain": [
       "<Figure size 640x480 with 1 Axes>"
      ]
     },
     "metadata": {},
     "output_type": "display_data"
    }
   ],
   "source": [
    "\n",
    "# Get a batch of data from the test loader\n",
    "dataiter = next(iter(test_loader))\n",
    "images, labels = dataiter\n",
    "\n",
    "# Select a single image from the batch\n",
    "img = images[0].squeeze()\n",
    "\n",
    "# Use the predict_and_display_image function to make a prediction and display the image\n",
    "predict_and_display_image(net, device, img, labels[0])"
   ]
  },
  {
   "cell_type": "code",
   "execution_count": 13,
   "id": "39a8a5c2",
   "metadata": {
    "execution": {
     "iopub.execute_input": "2023-06-28T10:55:22.371955Z",
     "iopub.status.busy": "2023-06-28T10:55:22.371674Z",
     "iopub.status.idle": "2023-06-28T10:55:22.716941Z",
     "shell.execute_reply": "2023-06-28T10:55:22.715984Z"
    },
    "papermill": {
     "duration": 0.363123,
     "end_time": "2023-06-28T10:55:22.719153",
     "exception": false,
     "start_time": "2023-06-28T10:55:22.356030",
     "status": "completed"
    },
    "tags": []
   },
   "outputs": [
    {
     "name": "stderr",
     "output_type": "stream",
     "text": [
      "/tmp/ipykernel_24/2322356002.py:23: UserWarning: Implicit dimension choice for softmax has been deprecated. Change the call to include dim=X as an argument.\n",
      "  x = F.softmax(self.fc3(x))\n"
     ]
    },
    {
     "name": "stdout",
     "output_type": "stream",
     "text": [
      "True Label:  tensor(1)\n",
      "Predicted Label:  1\n"
     ]
    },
    {
     "data": {
      "image/png": "[encoded data removed]",
      "text/plain": [
       "<Figure size 640x480 with 1 Axes>"
      ]
     },
     "metadata": {},
     "output_type": "display_data"
    }
   ],
   "source": [
    "\n",
    "# Get a batch of data from the test loader\n",
    "dataiter = next(iter(test_loader))\n",
    "images, labels = dataiter\n",
    "\n",
    "# Select a single image from the batch\n",
    "img = images[5].squeeze()\n",
    "\n",
    "# Use the predict_and_display_image function to make a prediction and display the image\n",
    "predict_and_display_image(net, device, img, labels[5])"
   ]
  },
  {
   "cell_type": "code",
   "execution_count": 14,
   "id": "e23d4128",
   "metadata": {
    "execution": {
     "iopub.execute_input": "2023-06-28T10:55:22.751570Z",
     "iopub.status.busy": "2023-06-28T10:55:22.750813Z",
     "iopub.status.idle": "2023-06-28T10:55:23.123478Z",
     "shell.execute_reply": "2023-06-28T10:55:23.122531Z"
    },
    "papermill": {
     "duration": 0.391314,
     "end_time": "2023-06-28T10:55:23.125602",
     "exception": false,
     "start_time": "2023-06-28T10:55:22.734288",
     "status": "completed"
    },
    "tags": []
   },
   "outputs": [
    {
     "name": "stderr",
     "output_type": "stream",
     "text": [
      "/tmp/ipykernel_24/2322356002.py:23: UserWarning: Implicit dimension choice for softmax has been deprecated. Change the call to include dim=X as an argument.\n",
      "  x = F.softmax(self.fc3(x))\n"
     ]
    },
    {
     "name": "stdout",
     "output_type": "stream",
     "text": [
      "True Label:  tensor(7)\n",
      "Predicted Label:  7\n"
     ]
    },
    {
     "data": {
      "image/png": "[encoded data removed]",
      "text/plain": [
       "<Figure size 640x480 with 1 Axes>"
      ]
     },
     "metadata": {},
     "output_type": "display_data"
    }
   ],
   "source": [
    "\n",
    "# Get a batch of data from the test loader\n",
    "dataiter = next(iter(test_loader))\n",
    "images, labels = dataiter\n",
    "\n",
    "# Select a single image from the batch\n",
    "img = images[60].squeeze()\n",
    "\n",
    "# Use the predict_and_display_image function to make a prediction and display the image\n",
    "predict_and_display_image(net, device, img, labels[60])"
   ]
  },
  {
   "cell_type": "code",
   "execution_count": 15,
   "id": "354dad3e",
   "metadata": {
    "execution": {
     "iopub.execute_input": "2023-06-28T10:55:23.159738Z",
     "iopub.status.busy": "2023-06-28T10:55:23.158140Z",
     "iopub.status.idle": "2023-06-28T10:55:23.465592Z",
     "shell.execute_reply": "2023-06-28T10:55:23.464549Z"
    },
    "papermill": {
     "duration": 0.32627,
     "end_time": "2023-06-28T10:55:23.467800",
     "exception": false,
     "start_time": "2023-06-28T10:55:23.141530",
     "status": "completed"
    },
    "tags": []
   },
   "outputs": [
    {
     "name": "stderr",
     "output_type": "stream",
     "text": [
      "/tmp/ipykernel_24/2322356002.py:23: UserWarning: Implicit dimension choice for softmax has been deprecated. Change the call to include dim=X as an argument.\n",
      "  x = F.softmax(self.fc3(x))\n"
     ]
    },
    {
     "name": "stdout",
     "output_type": "stream",
     "text": [
      "True Label:  tensor(6)\n",
      "Predicted Label:  6\n"
     ]
    },
    {
     "data": {
      "image/png": "[encoded data removed]",
      "text/plain": [
       "<Figure size 640x480 with 1 Axes>"
      ]
     },
     "metadata": {},
     "output_type": "display_data"
    }
   ],
   "source": [
    "\n",
    "# Get a batch of data from the test loader\n",
    "dataiter = next(iter(test_loader))\n",
    "images, labels = dataiter\n",
    "\n",
    "# Select a single image from the batch\n",
    "img = images[100].squeeze()\n",
    "\n",
    "# Use the predict_and_display_image function to make a prediction and display the image\n",
    "predict_and_display_image(net, device, img, labels[100])"
   ]
  },
  {
   "cell_type": "markdown",
   "id": "94900d01",
   "metadata": {
    "papermill": {
     "duration": 0.015745,
     "end_time": "2023-06-28T10:55:23.499625",
     "exception": false,
     "start_time": "2023-06-28T10:55:23.483880",
     "status": "completed"
    },
    "tags": []
   },
   "source": [
    "## Saving and loading the Model\n"
   ]
  },
  {
   "cell_type": "code",
   "execution_count": 16,
   "id": "d7b87831",
   "metadata": {
    "execution": {
     "iopub.execute_input": "2023-06-28T10:55:23.532455Z",
     "iopub.status.busy": "2023-06-28T10:55:23.532160Z",
     "iopub.status.idle": "2023-06-28T10:55:23.554313Z",
     "shell.execute_reply": "2023-06-28T10:55:23.553323Z"
    },
    "papermill": {
     "duration": 0.041481,
     "end_time": "2023-06-28T10:55:23.556670",
     "exception": false,
     "start_time": "2023-06-28T10:55:23.515189",
     "status": "completed"
    },
    "tags": []
   },
   "outputs": [],
   "source": [
    "torch.save(net.state_dict(), 'mnist_model.pth')"
   ]
  },
  {
   "cell_type": "code",
   "execution_count": 17,
   "id": "4048445f",
   "metadata": {
    "execution": {
     "iopub.execute_input": "2023-06-28T10:55:23.589907Z",
     "iopub.status.busy": "2023-06-28T10:55:23.589161Z",
     "iopub.status.idle": "2023-06-28T10:55:23.684233Z",
     "shell.execute_reply": "2023-06-28T10:55:23.683217Z"
    },
    "papermill": {
     "duration": 0.114624,
     "end_time": "2023-06-28T10:55:23.687237",
     "exception": false,
     "start_time": "2023-06-28T10:55:23.572613",
     "status": "completed"
    },
    "tags": []
   },
   "outputs": [
    {
     "data": {
      "text/plain": [
       "OrderedDict([('fc1.weight',\n",
       "              tensor([[ 0.0061,  0.0273, -0.0102,  ...,  0.0291,  0.0068, -0.0132],\n",
       "                      [ 0.0331,  0.0158,  0.0022,  ..., -0.0072, -0.0299, -0.0070],\n",
       "                      [-0.0344,  0.0297,  0.0197,  ..., -0.0004, -0.0179, -0.0341],\n",
       "                      ...,\n",
       "                      [ 0.0109, -0.0276, -0.0064,  ...,  0.0063, -0.0055,  0.0157],\n",
       "                      [ 0.0237, -0.0109,  0.0105,  ..., -0.0104,  0.0148, -0.0009],\n",
       "                      [ 0.0199, -0.0243,  0.0279,  ...,  0.0016, -0.0073,  0.0113]],\n",
       "                     device='cuda:0')),\n",
       "             ('fc1.bias',\n",
       "              tensor([ 3.0345e-02, -1.5614e-02,  1.9508e-02,  3.4394e-02,  3.0581e-02,\n",
       "                       5.2691e-03, -7.3270e-03, -5.5055e-03, -2.0133e-02, -2.5871e-02,\n",
       "                      -1.1723e-03,  9.4319e-03,  6.7271e-03, -1.2048e-02,  4.3773e-03,\n",
       "                       1.8646e-03,  3.1699e-02, -3.0987e-02, -3.9036e-04,  7.9613e-03,\n",
       "                      -1.9553e-02,  3.2376e-02,  1.0081e-02, -3.3442e-02, -2.0752e-02,\n",
       "                      -1.0243e-02,  7.8587e-03, -7.8734e-03,  1.7881e-02, -3.4039e-02,\n",
       "                      -7.9462e-03, -2.4437e-02,  3.5651e-02,  3.2723e-02,  7.7049e-03,\n",
       "                       5.5104e-04,  1.4456e-02,  1.9505e-02, -2.2797e-02,  1.5560e-02,\n",
       "                      -2.0781e-03,  5.2046e-03,  4.0650e-03, -6.5712e-03,  1.1153e-02,\n",
       "                       2.5350e-03,  1.8866e-02,  2.6381e-02,  2.1097e-02, -1.9789e-02,\n",
       "                       2.4782e-02,  2.0221e-02, -6.7511e-03,  2.0424e-02,  3.0423e-02,\n",
       "                      -2.2619e-03, -1.0515e-03,  3.3707e-03,  1.1407e-02, -9.0670e-03,\n",
       "                      -1.2193e-02,  3.1037e-02,  2.7431e-02,  1.8633e-02, -1.4027e-02,\n",
       "                       2.3655e-02, -7.7278e-04, -5.6531e-03,  8.3283e-03, -3.3766e-02,\n",
       "                       2.7183e-02,  1.1845e-02,  8.5524e-04,  1.6602e-02,  8.6307e-04,\n",
       "                       1.3643e-02,  1.5669e-02,  1.1178e-02,  1.3978e-02,  2.6313e-02,\n",
       "                       2.1581e-02, -3.4462e-02,  2.5566e-02, -5.8251e-03, -1.2913e-02,\n",
       "                      -1.8652e-02,  4.5471e-03, -2.5994e-02,  2.9638e-02, -3.2493e-02,\n",
       "                       2.8160e-02,  9.5301e-03,  9.2426e-04, -1.5608e-02,  9.8310e-03,\n",
       "                      -2.1136e-02,  6.1762e-03, -1.2516e-02,  1.1184e-02,  8.5380e-04,\n",
       "                       8.7242e-03, -2.3947e-02,  2.7189e-02, -1.6393e-02,  2.8243e-02,\n",
       "                       7.1498e-03, -1.9240e-02, -3.3962e-02, -4.0311e-03,  3.5486e-03,\n",
       "                      -6.6437e-03, -1.7341e-02, -1.2114e-02, -3.2467e-02,  1.7183e-02,\n",
       "                      -2.3307e-02,  2.1508e-02,  2.3548e-02, -3.0976e-02, -4.2260e-03,\n",
       "                       9.0404e-03,  2.3507e-02, -2.6350e-02,  2.4194e-02,  3.8769e-03,\n",
       "                       1.0569e-03,  2.8885e-02,  8.5969e-03, -7.7266e-04,  2.2201e-02,\n",
       "                       2.8552e-02,  1.1907e-02, -2.2373e-02,  2.6884e-04,  1.5048e-02,\n",
       "                      -2.4159e-02,  3.1283e-02,  3.1655e-02,  2.8824e-02, -1.8856e-02,\n",
       "                      -3.2634e-02,  5.2929e-03,  3.0512e-02, -1.1226e-02,  1.8081e-02,\n",
       "                      -2.0164e-03, -2.7197e-02, -3.1060e-03, -3.3906e-04, -3.2073e-02,\n",
       "                       3.0172e-02, -3.0331e-02,  1.4754e-02,  2.3144e-02,  3.3456e-02,\n",
       "                       1.0891e-02,  2.2074e-02, -2.5299e-02, -6.1574e-04, -2.3534e-02,\n",
       "                      -4.6506e-03,  7.5505e-03,  1.6925e-02,  2.5665e-02,  2.9763e-02,\n",
       "                       3.7881e-03, -8.3573e-03,  2.1393e-03,  2.8645e-03, -2.8658e-02,\n",
       "                      -2.3351e-02, -8.2888e-03,  1.0188e-02,  6.6784e-03,  1.6051e-02,\n",
       "                      -3.2456e-03, -9.6947e-03,  3.3926e-03, -2.0156e-03, -2.8817e-02,\n",
       "                       1.0247e-02,  8.3681e-03,  4.7408e-04,  2.4919e-02,  2.4703e-02,\n",
       "                      -2.3591e-02, -1.3516e-02, -3.5116e-02,  1.7638e-02, -1.2962e-02,\n",
       "                       5.4619e-03, -2.1393e-02, -2.4685e-02,  1.2919e-03,  1.2229e-02,\n",
       "                      -6.9723e-03, -6.3467e-03,  2.3507e-02, -2.8205e-02,  2.4274e-02,\n",
       "                      -3.4157e-02,  1.3783e-02, -2.3438e-02,  2.2725e-02,  3.2466e-02,\n",
       "                      -2.3518e-02,  1.9991e-02,  1.3838e-02, -3.4967e-02, -1.9232e-02,\n",
       "                      -2.7035e-02, -2.6022e-02,  1.1032e-02,  3.8222e-02, -1.4307e-02,\n",
       "                      -2.5412e-02, -2.2755e-02, -2.3559e-02, -2.7938e-02, -1.7306e-02,\n",
       "                      -8.0381e-03,  1.0202e-02, -2.2148e-02, -8.9498e-03,  3.6517e-02,\n",
       "                       1.8376e-02,  3.2357e-02, -1.2755e-02, -2.5634e-02, -2.2207e-02,\n",
       "                      -1.0843e-02, -2.0083e-02,  7.7490e-03, -2.0003e-03,  3.5339e-03,\n",
       "                      -1.2993e-03,  1.8617e-02,  3.2255e-02, -9.3024e-03, -1.6888e-02,\n",
       "                      -5.1216e-03,  2.6319e-02,  2.1500e-03,  2.1549e-02,  2.3219e-02,\n",
       "                      -2.4604e-02, -3.1738e-02,  1.1406e-02,  1.4343e-02,  1.3021e-02,\n",
       "                      -2.1772e-02, -1.5939e-02, -1.4312e-02, -1.7426e-02, -1.4453e-02,\n",
       "                       2.6149e-02, -2.0106e-02, -1.6036e-02, -2.5454e-02,  9.2288e-03,\n",
       "                      -2.4487e-02, -1.7784e-02, -8.3055e-04, -1.7345e-02,  2.5392e-02,\n",
       "                      -2.5108e-03, -2.0510e-02,  1.1368e-02, -2.9788e-02,  1.8099e-02,\n",
       "                       3.4149e-03,  3.3176e-02,  1.5665e-03, -1.9926e-02, -1.8037e-02,\n",
       "                       5.4084e-03,  6.9423e-03,  1.6881e-02, -2.5561e-02, -1.1380e-02,\n",
       "                       1.4871e-02,  2.1776e-02, -1.5398e-02,  1.0378e-03,  1.6571e-02,\n",
       "                      -1.8698e-02, -3.1501e-02, -2.1491e-02,  3.4887e-02,  7.6267e-03,\n",
       "                       1.8141e-02, -6.1692e-04,  2.0184e-02, -5.5873e-03, -1.9771e-02,\n",
       "                      -6.4346e-05, -2.2397e-02, -5.9594e-03, -2.1820e-02, -1.3823e-02,\n",
       "                      -2.1211e-02,  9.1874e-03,  1.4126e-02,  3.3215e-02,  1.7590e-02,\n",
       "                      -1.6892e-02, -1.9047e-02,  2.4633e-02, -2.0783e-02, -7.2771e-03,\n",
       "                       3.3124e-02, -2.2007e-02, -7.8756e-03, -1.7159e-02,  2.6411e-02,\n",
       "                       3.0878e-02,  9.7812e-03, -7.2539e-03,  1.2611e-02, -1.7408e-02,\n",
       "                       2.2289e-02,  1.3074e-02,  2.7230e-02, -9.4124e-03,  2.9902e-02,\n",
       "                       2.1963e-02,  6.8346e-03,  7.2246e-03, -2.0220e-02, -1.2447e-02,\n",
       "                      -1.2881e-02,  3.3861e-02, -9.0581e-03, -3.1786e-02,  1.1104e-02,\n",
       "                      -8.8644e-04, -3.3116e-02, -3.0312e-02, -1.9124e-02,  7.8984e-03,\n",
       "                       1.0469e-02,  2.1073e-02, -1.2718e-02,  1.4555e-02,  1.3459e-02,\n",
       "                       1.5548e-02, -2.6050e-02, -2.3635e-02,  2.7137e-02, -2.2456e-02,\n",
       "                       9.0621e-03,  3.5076e-02,  3.2481e-02,  2.3659e-02, -3.7187e-03,\n",
       "                      -3.4430e-02,  1.9488e-03,  1.6014e-02,  8.6000e-03,  8.4317e-03,\n",
       "                      -5.8517e-03,  2.0680e-02, -3.3715e-02, -2.2574e-02,  2.6956e-04,\n",
       "                      -8.6183e-03,  4.8036e-03, -3.3481e-02,  2.1741e-02, -1.2895e-02,\n",
       "                      -1.3266e-02, -2.6403e-02,  2.2543e-02, -1.3719e-02,  2.1183e-02,\n",
       "                      -1.2725e-02,  3.0078e-02,  7.2447e-03, -7.2457e-03,  3.5421e-02,\n",
       "                      -8.5697e-03, -3.4673e-02, -2.9938e-02,  7.1550e-03, -3.2240e-02,\n",
       "                      -1.2782e-02,  1.1910e-03,  2.2799e-03, -6.1563e-03,  1.1448e-02,\n",
       "                       1.3920e-02,  1.5155e-02, -2.8990e-02, -1.3544e-02, -3.8553e-02,\n",
       "                      -1.0040e-02,  3.2891e-02, -3.3026e-02, -2.1251e-02,  3.7644e-03,\n",
       "                       3.0404e-02, -1.5135e-02, -2.9901e-02, -1.1181e-04, -5.6307e-03,\n",
       "                       3.2770e-02, -1.9387e-02,  3.1242e-02, -2.0971e-02, -3.0554e-02,\n",
       "                      -7.1923e-03,  6.3563e-03,  1.0877e-02,  2.4399e-03,  3.3678e-02,\n",
       "                      -1.8796e-04, -2.8922e-02,  1.7627e-02, -6.4156e-03, -2.8096e-02,\n",
       "                      -3.0750e-02,  1.8806e-02,  1.4582e-02,  1.5543e-02, -2.0605e-02,\n",
       "                       3.0087e-03, -8.4088e-03, -3.3247e-02,  3.2547e-02, -9.4493e-03,\n",
       "                       6.9340e-03,  2.2478e-02, -2.7375e-02,  3.4801e-02, -3.2092e-02,\n",
       "                      -3.3309e-03, -2.3171e-02,  3.3475e-02, -6.2999e-03, -6.5145e-03,\n",
       "                       3.0317e-02, -3.2250e-02, -5.2050e-03,  2.2642e-02,  8.7001e-03,\n",
       "                       2.5153e-02,  3.6171e-02, -9.9055e-03, -3.1971e-02,  1.7138e-02,\n",
       "                      -1.0940e-02,  2.9290e-03,  9.6876e-03,  1.6176e-02,  2.9289e-02,\n",
       "                       1.5135e-02,  1.6221e-02,  1.5271e-02, -2.6168e-02, -2.3892e-02,\n",
       "                       3.0543e-02,  1.3551e-02,  1.9154e-02,  1.6017e-02,  2.5697e-02,\n",
       "                      -3.1078e-02, -2.0833e-02, -1.5621e-02,  2.7454e-02,  2.6827e-02,\n",
       "                      -2.3008e-03,  1.8861e-02, -2.0173e-02, -1.9063e-02,  4.9435e-03,\n",
       "                      -3.6175e-04,  4.8080e-03, -1.7802e-02, -1.1468e-03,  1.8835e-02,\n",
       "                       9.5906e-03, -2.6299e-02, -1.8695e-02, -8.1599e-03,  2.7694e-02,\n",
       "                      -3.4427e-03, -1.6506e-02,  2.4328e-02,  8.9565e-03,  2.2157e-02,\n",
       "                      -2.7248e-02, -2.1077e-02, -1.1095e-03, -3.6358e-02, -1.4153e-02,\n",
       "                       2.8500e-02,  1.5773e-02, -2.4568e-03,  2.0227e-02,  2.4826e-02,\n",
       "                      -5.5953e-03,  4.9732e-03,  1.3665e-02, -1.6495e-02, -1.8148e-02,\n",
       "                       3.0663e-02,  1.5877e-02, -2.1804e-02,  1.3527e-02,  3.4673e-03,\n",
       "                       1.4918e-02,  2.7917e-03], device='cuda:0')),\n",
       "             ('fc2.weight',\n",
       "              tensor([[-0.0346, -0.0150,  0.0134,  ..., -0.0253, -0.0094, -0.0039],\n",
       "                      [ 0.0359,  0.0440, -0.0236,  ..., -0.0433,  0.0293,  0.0043],\n",
       "                      [ 0.0355, -0.0276, -0.0043,  ..., -0.0322,  0.0434,  0.0233],\n",
       "                      ...,\n",
       "                      [ 0.0153, -0.0403,  0.0283,  ...,  0.0605, -0.0041,  0.0258],\n",
       "                      [-0.0016,  0.0133,  0.0296,  ..., -0.0467,  0.0271,  0.0088],\n",
       "                      [ 0.0259, -0.0020, -0.0223,  ...,  0.0245, -0.0557, -0.0136]],\n",
       "                     device='cuda:0')),\n",
       "             ('fc2.bias',\n",
       "              tensor([ 0.0390,  0.0323, -0.0138, -0.0239,  0.0302, -0.0333,  0.0242, -0.0215,\n",
       "                       0.0308, -0.0168, -0.0223, -0.0257,  0.0358,  0.0227, -0.0012,  0.0225,\n",
       "                       0.0008,  0.0212,  0.0023, -0.0086, -0.0300,  0.0259, -0.0281, -0.0050,\n",
       "                       0.0145,  0.0257,  0.0074, -0.0322,  0.0072, -0.0243,  0.0242,  0.0157,\n",
       "                       0.0451,  0.0254,  0.0371,  0.0328,  0.0135,  0.0077,  0.0504,  0.0112,\n",
       "                      -0.0194,  0.0107,  0.0038,  0.0334, -0.0039, -0.0212,  0.0288,  0.0285,\n",
       "                       0.0302,  0.0100, -0.0310, -0.0339, -0.0147,  0.0079, -0.0293, -0.0126,\n",
       "                       0.0050,  0.0436,  0.0344,  0.0091,  0.0085,  0.0044,  0.0176, -0.0356,\n",
       "                       0.0134,  0.0033,  0.0311, -0.0276,  0.0181,  0.0199,  0.0448, -0.0033,\n",
       "                      -0.0364, -0.0169,  0.0056,  0.0338, -0.0272,  0.0397, -0.0125, -0.0049,\n",
       "                       0.0237,  0.0424,  0.0047,  0.0498,  0.0008,  0.0099,  0.0069, -0.0045,\n",
       "                      -0.0353, -0.0117,  0.0238, -0.0072, -0.0046, -0.0215,  0.0282,  0.0379,\n",
       "                       0.0221, -0.0063,  0.0132,  0.0421,  0.0069,  0.0425,  0.0007, -0.0309,\n",
       "                       0.0266, -0.0389, -0.0308,  0.0246, -0.0103, -0.0096,  0.0337,  0.0193,\n",
       "                       0.0225, -0.0310, -0.0009,  0.0467,  0.0300, -0.0330, -0.0209,  0.0261,\n",
       "                      -0.0011,  0.0026,  0.0031,  0.0272,  0.0443,  0.0185, -0.0242,  0.0375],\n",
       "                     device='cuda:0')),\n",
       "             ('fc3.weight',\n",
       "              tensor([[ 0.1946,  0.1626, -0.0423,  ..., -0.1076,  0.1811, -0.1184],\n",
       "                      [-0.0112, -0.1237,  0.0795,  ..., -0.1093,  0.1038, -0.0947],\n",
       "                      [-0.0536,  0.1729,  0.0081,  ..., -0.0544,  0.2002, -0.0431],\n",
       "                      ...,\n",
       "                      [-0.1191,  0.1728,  0.0180,  ...,  0.0749, -0.0940,  0.0415],\n",
       "                      [-0.0886, -0.1755, -0.1415,  ..., -0.0956,  0.0151, -0.1393],\n",
       "                      [ 0.0432, -0.0908, -0.1393,  ...,  0.0140, -0.0468,  0.1305]],\n",
       "                     device='cuda:0')),\n",
       "             ('fc3.bias',\n",
       "              tensor([-0.0418, -0.0483, -0.0424, -0.0150,  0.0629,  0.0311, -0.0201,  0.0099,\n",
       "                       0.0064, -0.0223], device='cuda:0'))])"
      ]
     },
     "execution_count": 17,
     "metadata": {},
     "output_type": "execute_result"
    }
   ],
   "source": [
    "net.state_dict()"
   ]
  },
  {
   "cell_type": "code",
   "execution_count": null,
   "id": "ce58a273",
   "metadata": {
    "papermill": {
     "duration": 0.015973,
     "end_time": "2023-06-28T10:55:23.719214",
     "exception": false,
     "start_time": "2023-06-28T10:55:23.703241",
     "status": "completed"
    },
    "tags": []
   },
   "outputs": [],
   "source": []
  }
 ],
 "metadata": {
  "kernelspec": {
   "display_name": "Python 3",
   "language": "python",
   "name": "python3"
  },
  "language_info": {
   "codemirror_mode": {
    "name": "ipython",
    "version": 3
   },
   "file_extension": ".py",
   "mimetype": "text/x-python",
   "name": "python",
   "nbconvert_exporter": "python",
   "pygments_lexer": "ipython3",
   "version": "3.10.10"
  },
  "papermill": {
   "default_parameters": {},
   "duration": 897.022972,
   "end_time": "2023-06-28T10:55:26.652865",
   "environment_variables": {},
   "exception": null,
   "input_path": "__notebook__.ipynb",
   "output_path": "__notebook__.ipynb",
   "parameters": {},
   "start_time": "2023-06-28T10:40:29.629893",
   "version": "2.4.0"
  }
 },
 "nbformat": 4,
 "nbformat_minor": 5
}
